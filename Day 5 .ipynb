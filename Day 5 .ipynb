{
 "cells": [
  {
   "cell_type": "markdown",
   "id": "ff27bd3c",
   "metadata": {},
   "source": [
    "# List Functions"
   ]
  },
  {
   "cell_type": "markdown",
   "id": "0efd7627",
   "metadata": {},
   "source": [
    "* The 'append' method adds an item to the end of an existing list. "
   ]
  },
  {
   "cell_type": "code",
   "execution_count": 1,
   "id": "071e505f",
   "metadata": {},
   "outputs": [
    {
     "name": "stdout",
     "output_type": "stream",
     "text": [
      "[1, 2, 3]\n",
      "[1, 2, 3, 4]\n"
     ]
    }
   ],
   "source": [
    "nums = [1, 2, 3]\n",
    "print(nums)\n",
    "\n",
    "nums.append(4)\n",
    "print(nums)"
   ]
  },
  {
   "cell_type": "code",
   "execution_count": 2,
   "id": "6481c0a9",
   "metadata": {},
   "outputs": [
    {
     "name": "stdout",
     "output_type": "stream",
     "text": [
      "['Hello', 'world']\n",
      "world\n"
     ]
    }
   ],
   "source": [
    "words= [\"Hello\"]\n",
    "words.append(\"world\")\n",
    "print(words)\n",
    "print(words[1])"
   ]
  },
  {
   "cell_type": "markdown",
   "id": "6a8ccfd6",
   "metadata": {},
   "source": [
    "* To get the number of items in a list, we can use the len Fucnction"
   ]
  },
  {
   "cell_type": "code",
   "execution_count": 3,
   "id": "1f73c43b",
   "metadata": {},
   "outputs": [
    {
     "name": "stdout",
     "output_type": "stream",
     "text": [
      "5\n"
     ]
    }
   ],
   "source": [
    "nums = [1, 3, 5, 2, 4 ]\n",
    "\n",
    "print(len(nums))"
   ]
  },
  {
   "cell_type": "code",
   "execution_count": 4,
   "id": "b92c1e55",
   "metadata": {},
   "outputs": [
    {
     "name": "stdout",
     "output_type": "stream",
     "text": [
      "['a', 'b', 'c', 'd']\n"
     ]
    }
   ],
   "source": [
    "letters = [\"a\", \"b\", \"c\"]\n",
    "\n",
    "letters. append(\"d\")\n",
    "print(letters)"
   ]
  },
  {
   "cell_type": "code",
   "execution_count": 5,
   "id": "f08218f6",
   "metadata": {},
   "outputs": [
    {
     "name": "stdout",
     "output_type": "stream",
     "text": [
      "4\n"
     ]
    }
   ],
   "source": [
    "print(len(letters))"
   ]
  },
  {
   "cell_type": "markdown",
   "id": "0340b89b",
   "metadata": {},
   "source": [
    "* The insert method is similar to append, except that it allow you to insert a new item at any possition in the list, as opposed to just at the end"
   ]
  },
  {
   "cell_type": "code",
   "execution_count": 6,
   "id": "b8f1ee40",
   "metadata": {},
   "outputs": [
    {
     "name": "stdout",
     "output_type": "stream",
     "text": [
      "['Python', 'is', 'Fun']\n",
      "['Python', 'is', 'Fun']\n"
     ]
    }
   ],
   "source": [
    "words = [\"Python\", \"Fun\"]\n",
    "index = 1\n",
    "words.insert(index, \"is\")\n",
    "print(words)\n",
    "\n",
    "# or we can just do this\n",
    "\n",
    "words = [\"Python\", \"Fun\"]\n",
    "words.insert(1, \"is\")  #insertint \"is\" at index 1\n",
    "print(words)"
   ]
  },
  {
   "cell_type": "code",
   "execution_count": 7,
   "id": "a0c1c34c",
   "metadata": {},
   "outputs": [
    {
     "name": "stdout",
     "output_type": "stream",
     "text": [
      "[9, 8, 7, 6, 5, 4]\n",
      "[9, 8, 11, 7, 6, 5, 4]\n",
      "7\n"
     ]
    }
   ],
   "source": [
    "nums = [9, 8, 7, 6, 5]\n",
    "nums.append(4) #this will add 4 at the end in list nums\n",
    "print(nums)\n",
    "nums.insert(2, 11) #this will add 11 at the index 2 in list nums\n",
    "print(nums)\n",
    "print(len(nums)) #to check the length of list"
   ]
  },
  {
   "cell_type": "markdown",
   "id": "a786c4e5",
   "metadata": {},
   "source": [
    "* The index method finds the first occurance of a list item and returns its index. if the item is not in the list, it raises a valueError"
   ]
  },
  {
   "cell_type": "code",
   "execution_count": 8,
   "id": "9eb50ac5",
   "metadata": {},
   "outputs": [
    {
     "name": "stdout",
     "output_type": "stream",
     "text": [
      "2\n",
      "0\n"
     ]
    },
    {
     "ename": "ValueError",
     "evalue": "'z' is not in list",
     "output_type": "error",
     "traceback": [
      "\u001b[1;31m---------------------------------------------------------------------------\u001b[0m",
      "\u001b[1;31mValueError\u001b[0m                                Traceback (most recent call last)",
      "\u001b[1;32m<ipython-input-8-586d19911412>\u001b[0m in \u001b[0;36m<module>\u001b[1;34m\u001b[0m\n\u001b[0;32m      2\u001b[0m \u001b[0mprint\u001b[0m\u001b[1;33m(\u001b[0m\u001b[0mletters\u001b[0m\u001b[1;33m.\u001b[0m\u001b[0mindex\u001b[0m\u001b[1;33m(\u001b[0m\u001b[1;34m'r'\u001b[0m\u001b[1;33m)\u001b[0m\u001b[1;33m)\u001b[0m \u001b[1;31m#at which index'r' actually is\u001b[0m\u001b[1;33m\u001b[0m\u001b[1;33m\u001b[0m\u001b[0m\n\u001b[0;32m      3\u001b[0m \u001b[0mprint\u001b[0m\u001b[1;33m(\u001b[0m\u001b[0mletters\u001b[0m\u001b[1;33m.\u001b[0m\u001b[0mindex\u001b[0m\u001b[1;33m(\u001b[0m\u001b[1;34m'p'\u001b[0m\u001b[1;33m)\u001b[0m\u001b[1;33m)\u001b[0m\u001b[1;33m\u001b[0m\u001b[1;33m\u001b[0m\u001b[0m\n\u001b[1;32m----> 4\u001b[1;33m \u001b[0mprint\u001b[0m\u001b[1;33m(\u001b[0m\u001b[0mletters\u001b[0m\u001b[1;33m.\u001b[0m\u001b[0mindex\u001b[0m\u001b[1;33m(\u001b[0m\u001b[1;34m'z'\u001b[0m\u001b[1;33m)\u001b[0m\u001b[1;33m)\u001b[0m \u001b[1;31m#z in not the list so this is going to cause an error\u001b[0m\u001b[1;33m\u001b[0m\u001b[1;33m\u001b[0m\u001b[0m\n\u001b[0m",
      "\u001b[1;31mValueError\u001b[0m: 'z' is not in list"
     ]
    }
   ],
   "source": [
    "letters = ['p', 'q', 'r', 's', 'p', 'u']\n",
    "print(letters.index('r')) #at which index'r' actually is\n",
    "print(letters.index('p'))\n",
    "print(letters.index('z')) #z in not the list so this is going to cause an error"
   ]
  },
  {
   "cell_type": "markdown",
   "id": "82f86153",
   "metadata": {},
   "source": [
    "* There are few more useful functions and methods for list"
   ]
  },
  {
   "cell_type": "code",
   "execution_count": 9,
   "id": "a258a87e",
   "metadata": {},
   "outputs": [],
   "source": [
    "ages = [5, 8, 10, 9, 12, 25, 6]"
   ]
  },
  {
   "cell_type": "code",
   "execution_count": 10,
   "id": "de523cf3",
   "metadata": {},
   "outputs": [
    {
     "data": {
      "text/plain": [
       "[5, 8, 10, 9, 12, 25, 6]"
      ]
     },
     "execution_count": 10,
     "metadata": {},
     "output_type": "execute_result"
    }
   ],
   "source": [
    "ages"
   ]
  },
  {
   "cell_type": "code",
   "execution_count": 11,
   "id": "5a4b3c18",
   "metadata": {},
   "outputs": [
    {
     "data": {
      "text/plain": [
       "25"
      ]
     },
     "execution_count": 11,
     "metadata": {},
     "output_type": "execute_result"
    }
   ],
   "source": [
    "max(ages) #max() functions returns the maximum value in the list"
   ]
  },
  {
   "cell_type": "code",
   "execution_count": 12,
   "id": "292d88f0",
   "metadata": {},
   "outputs": [
    {
     "data": {
      "text/plain": [
       "5"
      ]
     },
     "execution_count": 12,
     "metadata": {},
     "output_type": "execute_result"
    }
   ],
   "source": [
    "min(ages) #min() functions returns the minimum value in the list"
   ]
  },
  {
   "cell_type": "code",
   "execution_count": 13,
   "id": "d8999e5d",
   "metadata": {},
   "outputs": [
    {
     "data": {
      "text/plain": [
       "1"
      ]
     },
     "execution_count": 13,
     "metadata": {},
     "output_type": "execute_result"
    }
   ],
   "source": [
    "ages.count(25) #this will count how many times 25 occurs in the list ages"
   ]
  },
  {
   "cell_type": "code",
   "execution_count": 14,
   "id": "f0987f23",
   "metadata": {},
   "outputs": [],
   "source": [
    "ages.remove(5) #this will remove 5 from the list"
   ]
  },
  {
   "cell_type": "code",
   "execution_count": 15,
   "id": "cad0f45b",
   "metadata": {},
   "outputs": [
    {
     "name": "stdout",
     "output_type": "stream",
     "text": [
      "[8, 10, 9, 12, 25, 6]\n"
     ]
    }
   ],
   "source": [
    "print(ages)"
   ]
  },
  {
   "cell_type": "code",
   "execution_count": 19,
   "id": "66edfbf6",
   "metadata": {},
   "outputs": [],
   "source": [
    "ages.reverse() #this will reverse the item in the list"
   ]
  },
  {
   "cell_type": "code",
   "execution_count": 20,
   "id": "ee9c8912",
   "metadata": {},
   "outputs": [
    {
     "name": "stdout",
     "output_type": "stream",
     "text": [
      "[6, 25, 12, 9, 10, 8]\n"
     ]
    }
   ],
   "source": [
    "print(ages)"
   ]
  },
  {
   "cell_type": "code",
   "execution_count": null,
   "id": "47743ca9",
   "metadata": {},
   "outputs": [],
   "source": []
  }
 ],
 "metadata": {
  "kernelspec": {
   "display_name": "Python 3",
   "language": "python",
   "name": "python3"
  },
  "language_info": {
   "codemirror_mode": {
    "name": "ipython",
    "version": 3
   },
   "file_extension": ".py",
   "mimetype": "text/x-python",
   "name": "python",
   "nbconvert_exporter": "python",
   "pygments_lexer": "ipython3",
   "version": "3.8.8"
  }
 },
 "nbformat": 4,
 "nbformat_minor": 5
}
